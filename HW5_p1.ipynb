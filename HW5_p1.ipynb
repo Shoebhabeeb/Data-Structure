{
 "cells": [
  {
   "cell_type": "code",
   "execution_count": 1,
   "metadata": {},
   "outputs": [],
   "source": [
    "from tkinter import *\n",
    "from tkinter.messagebox import *\n",
    "import tkinter.messagebox as tkMessageBox\n",
    "root = Tk()\n",
    "root.geometry(\"300x280+300+300\")\n",
    "l1 = Label(root, width =30, text = \"A very simple calculator\", fg = 'blue',font=(\"Courier\", 10)) \n",
    "l1.grid(row = 0, columnspan = 2)\n",
    "l2 = Label(root, text = \"+\") \n",
    "l2.grid(row = 2)\n",
    "f1 = Frame(root)\n",
    "f1.grid(row = 6,column = 0, sticky = \"nsew\")\n",
    "l3 = Label(root, text = \"=\")\n",
    "l3.grid(row = 4)\n",
    "e1 = Entry(root) \n",
    "e1.grid(row = 1)\n",
    "e2 = Entry(root)\n",
    "e2.grid(row = 3)\n",
    "blank = Label(root, text = 0)\n",
    "blank.grid(row = 5) \n",
    "def showAddResult():\n",
    "    res = int(e1.get())+int(e2.get())\n",
    "    blank.config(text = res)\n",
    "    l2.config(text = \"+\")\n",
    "b1 = Button(f1, text = \"+\", command = showAddResult) \n",
    "b1.pack(side = \"left\",fill = BOTH, expand = TRUE,padx =4, pady=4)\n",
    "def showSubResult():\n",
    "    res = int(e1.get())-int(e2.get())\n",
    "    blank.config(text = res)\n",
    "    l2.config(text = \"-\")\n",
    "b2 = Button(f1, text = \"-\", command = showSubResult) \n",
    "b2.pack(side = \"right\",fill = BOTH, expand = TRUE, padx =4, pady=4)\n",
    "def showMulResult():\n",
    "    res = int(e1.get())*int(e2.get())\n",
    "    blank.config(text = res)\n",
    "    l2.config(text = \"*\")\n",
    "b3 = Button(f1, text = \"*\", command = showMulResult) \n",
    "b3.pack(side = \"left\",fill = BOTH, expand = TRUE, padx =4, pady=4)\n",
    "def showDivResult():\n",
    "    if int(e2.get()) == 0:\n",
    "        blank.insert(0,\"cannot be divided by 0\")\n",
    "    res = int(e1.get())/int(e2.get())\n",
    "    blank.config(text = res)\n",
    "    l2.config(text = \"/\")\n",
    "b4 = Button(f1, text = \"/\", command = showDivResult) \n",
    "b4.pack(side = BOTTOM,fill = BOTH, expand = TRUE, padx =4, pady=4)\n",
    "Button(root, text='Quit', command=root.destroy).grid(row=8)\n",
    "root.mainloop()"
   ]
  },
  {
   "cell_type": "code",
   "execution_count": null,
   "metadata": {},
   "outputs": [],
   "source": []
  }
 ],
 "metadata": {
  "kernelspec": {
   "display_name": "Python 3",
   "language": "python",
   "name": "python3"
  },
  "language_info": {
   "codemirror_mode": {
    "name": "ipython",
    "version": 3
   },
   "file_extension": ".py",
   "mimetype": "text/x-python",
   "name": "python",
   "nbconvert_exporter": "python",
   "pygments_lexer": "ipython3",
   "version": "3.7.3"
  }
 },
 "nbformat": 4,
 "nbformat_minor": 4
}
