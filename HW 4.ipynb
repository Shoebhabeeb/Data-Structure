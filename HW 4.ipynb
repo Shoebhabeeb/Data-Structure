{
 "cells": [
  {
   "cell_type": "code",
   "execution_count": 37,
   "metadata": {},
   "outputs": [],
   "source": [
    "import tkinter as tk\n",
    "import time\n",
    "root = tk.Tk()\n",
    "canvas = tk.Canvas(root, width=400, height=300)\n",
    "canvas.pack() \n",
    "points = [117.5,0,75,30,160,30]\n",
    "canvas.create_rectangle(200,50,300,125)\n",
    "canvas.create_rectangle(100,30,135,125)\n",
    "canvas.create_rectangle(100,100,300,225)\n",
    "canvas.create_polygon(points)\n",
    "canvas.create_arc(50,175,150,275,start = 90, extent = 270 )\n",
    "canvas.create_arc(250,175,350,275,start = 180, extent = 270 )\n",
    "root.mainloop()"
   ]
  },
  {
   "cell_type": "code",
   "execution_count": 5,
   "metadata": {},
   "outputs": [],
   "source": [
    "import tkinter as tk\n",
    "import time\n",
    "root = tk.Tk()\n",
    "canvas = tk.Canvas(root, width=500, height=500)\n",
    "canvas.pack() \n",
    "rec1 = canvas.create_rectangle(10,10,60,60,fill='blue',outline='red',width =2)\n",
    "for x in range(50):\n",
    "    y=x=5\n",
    "    time.sleep(0.025)\n",
    "    canvas.move(rec1,x,0)\n",
    "    canvas.update()\n",
    "for x in range(50):\n",
    "    y=x=5\n",
    "    time.sleep(0.025)\n",
    "    canvas.move(rec1,0,y)\n",
    "    canvas.update()\n",
    "for x in range(50):\n",
    "    y=x=5\n",
    "    time.sleep(0.025)\n",
    "    canvas.move(rec1,-x,0)\n",
    "    canvas.update()\n",
    "for x in range(50):\n",
    "    y=x=5\n",
    "    time.sleep(0.025)\n",
    "    canvas.move(rec1,0,-y)\n",
    "    canvas.update()\n",
    "\n",
    "root.mainloop()"
   ]
  },
  {
   "cell_type": "code",
   "execution_count": 6,
   "metadata": {},
   "outputs": [],
   "source": [
    "import tkinter as tk\n",
    "import time\n",
    "root = tk.Tk()\n",
    "canvas = tk.Canvas(root, width=500, height=500)\n",
    "canvas.pack() \n",
    "rec1 = canvas.create_rectangle(10,250,60,300,fill='blue',outline='red',width =2)\n",
    "for x in range(50):\n",
    "    y=x=5\n",
    "    time.sleep(0.025)\n",
    "    canvas.move(rec1,x,-y)\n",
    "    canvas.update()\n",
    "for x in range(50):\n",
    "    y=x=5\n",
    "    time.sleep(0.025)\n",
    "    canvas.move(rec1,x,y)\n",
    "    canvas.update()\n",
    "for x in range(50):\n",
    "    y=x=5\n",
    "    time.sleep(0.025)\n",
    "    canvas.move(rec1,-x,y)\n",
    "    canvas.update()\n",
    "for x in range(50):\n",
    "    y=x=5\n",
    "    time.sleep(0.025)\n",
    "    canvas.move(rec1,-x,-y)\n",
    "    canvas.update()\n",
    "\n",
    "root.mainloop()"
   ]
  },
  {
   "cell_type": "code",
   "execution_count": null,
   "metadata": {},
   "outputs": [],
   "source": []
  }
 ],
 "metadata": {
  "kernelspec": {
   "display_name": "Python 3",
   "language": "python",
   "name": "python3"
  },
  "language_info": {
   "codemirror_mode": {
    "name": "ipython",
    "version": 3
   },
   "file_extension": ".py",
   "mimetype": "text/x-python",
   "name": "python",
   "nbconvert_exporter": "python",
   "pygments_lexer": "ipython3",
   "version": "3.7.3"
  }
 },
 "nbformat": 4,
 "nbformat_minor": 4
}
